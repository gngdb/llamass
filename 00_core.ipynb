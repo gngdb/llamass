{
 "cells": [
  {
   "cell_type": "code",
   "execution_count": null,
   "metadata": {},
   "outputs": [],
   "source": [
    "# default_exp core"
   ]
  },
  {
   "cell_type": "markdown",
   "metadata": {},
   "source": [
    "# core\n",
    "\n",
    "> Unpack and load the [AMASS][] dataset for training with a PyTorch iterator.\n",
    "\n",
    "To do:\n",
    "\n",
    "1. Rewrite to use IterableDataset\n",
    "\n",
    "[amass]: https://amass.is.tue.mpg.de/"
   ]
  },
  {
   "cell_type": "code",
   "execution_count": null,
   "metadata": {},
   "outputs": [],
   "source": [
    "# hide\n",
    "from nbdev.showdoc import *"
   ]
  },
  {
   "cell_type": "markdown",
   "metadata": {},
   "source": [
    "# Unpack Tar Files\n",
    "\n",
    "> Console script to unpack all tar files found in a specified directory and put them in another directory, then create a symlink to be able to find the unpacked data later"
   ]
  },
  {
   "cell_type": "markdown",
   "metadata": {},
   "source": [
    "## Checksum Directories\n",
    "\n",
    "> Checksum directories to only unpack tar files when target directory either doesn't exist or has been incorrectly unpacked.\n",
    "\n",
    "It would probably be sufficient to check if the target directory exists, but this is more thorough."
   ]
  },
  {
   "cell_type": "code",
   "execution_count": null,
   "metadata": {},
   "outputs": [],
   "source": [
    "# export\n",
    "# https://stackoverflow.com/a/54477583/6937913\n",
    "# function to evaluate the hash of an entire directory system to verify downloading and unpacking was correct\n",
    "import hashlib\n",
    "from _hashlib import HASH as Hash\n",
    "from pathlib import Path\n",
    "from typing import Union\n",
    "\n",
    "\n",
    "def md5_update_from_file(filename: Union[str, Path], hash: Hash) -> Hash:\n",
    "    assert Path(filename).is_file()\n",
    "    with open(str(filename), \"rb\") as f:\n",
    "        for chunk in iter(lambda: f.read(4096), b\"\"):\n",
    "            hash.update(chunk)\n",
    "    return hash\n",
    "\n",
    "def md5_file(filename: Union[str, Path]) -> str:\n",
    "    return str(md5_update_from_file(filename, hashlib.md5()).hexdigest())\n",
    "\n",
    "def md5_update_from_dir(directory: Union[str, Path], hash: Hash) -> Hash:\n",
    "    assert Path(directory).is_dir()\n",
    "    for path in sorted(Path(directory).iterdir(), key=lambda p: str(p).lower()):\n",
    "        hash.update(path.name.encode())\n",
    "        if path.is_file():\n",
    "            hash = md5_update_from_file(path, hash)\n",
    "        elif path.is_dir():\n",
    "            hash = md5_update_from_dir(path, hash)\n",
    "    return hash\n",
    "\n",
    "def md5_dir(directory: Union[str, Path]) -> str:\n",
    "    return str(md5_update_from_dir(directory, hashlib.md5()).hexdigest())"
   ]
  },
  {
   "cell_type": "code",
   "execution_count": null,
   "metadata": {},
   "outputs": [],
   "source": [
    "#export\n",
    "hashes = \\\n",
    "{'ACCAD.tar.bz2': {'unpacks_to': 'ACCAD',\n",
    "  'hash': '193442a2ab66cb116932b8bce08ecb89'},\n",
    " 'BMLhandball.tar.bz2': {'unpacks_to': 'BMLhandball',\n",
    "  'hash': '8947df17dd59d052ae618daf24ccace3'},\n",
    " 'BMLmovi.tar.bz2': {'unpacks_to': 'BMLmovi',\n",
    "  'hash': '6dfb134273f284152aa2d0838d7529d5'},\n",
    " 'CMU.tar.bz2': {'unpacks_to': 'CMU',\n",
    "  'hash': 'f04bc3f37f3eafebfb12ba0cf706ca72'},\n",
    " 'DFaust67.tar.bz2': {'unpacks_to': 'DFaust_67',\n",
    "  'hash': '7e5f11ed897da72c5159ef3c747383b8'},\n",
    " 'EKUT.tar.bz2': {'unpacks_to': 'EKUT',\n",
    "  'hash': '221ee4a27a03afd1808cbb11af067879'},\n",
    " 'HumanEva.tar.bz2': {'unpacks_to': 'HumanEva',\n",
    "  'hash': 'ca781438b08caafd8a42b91cce905a03'},\n",
    " 'KIT.tar.bz2': {'unpacks_to': 'KIT',\n",
    "  'hash': '3813500a3909f6ded1a1fffbd27ff35a'},\n",
    " 'MPIHDM05.tar.bz2': {'unpacks_to': 'MPI_HDM05',\n",
    "  'hash': 'f76da8deb9e583c65c618d57fbad1be4'},\n",
    " 'MPILimits.tar.bz2': {'unpacks_to': 'MPI_Limits',\n",
    "  'hash': '72398ec89ff8ac8550813686cdb07b00'},\n",
    " 'MPImosh.tar.bz2': {'unpacks_to': 'MPI_mosh',\n",
    "  'hash': 'a00019cac611816b7ac5b7e2035f3a8a'},\n",
    " 'SFU.tar.bz2': {'unpacks_to': 'SFU',\n",
    "  'hash': 'cb10b931509566c0a49d72456e0909e2'},\n",
    " 'SSMsynced.tar.bz2': {'unpacks_to': 'SSM_synced',\n",
    "  'hash': '7cc15af6bf95c34e481d58ed04587b58'},\n",
    " 'TCDhandMocap.tar.bz2': {'unpacks_to': 'TCD_handMocap',\n",
    "  'hash': 'c500aa07973bf33ac1587a521b7d66d3'},\n",
    " 'TotalCapture.tar.bz2': {'unpacks_to': 'TotalCapture',\n",
    "  'hash': 'b2c6833d3341816f4550799b460a1b27'},\n",
    " 'Transitionsmocap.tar.bz2': {'unpacks_to': 'Transitions_mocap',\n",
    "  'hash': '705e8020405357d9d65d17580a6e9b39'},\n",
    " 'EyesJapanDataset.tar.bz2': {'unpacks_to': 'Eyes_Japan_Dataset',\n",
    "  'hash': 'd19fc19771cfdbe8efe2422719e5f3f1'},\n",
    " 'BMLrub.tar.bz2': {'unpacks_to': 'BioMotionLab_NTroje',\n",
    "  'hash': '8b82ffa6c79d42a920f5dde1dcd087c3'},\n",
    " 'DanceDB.tar.bz2': {'unpacks_to': 'DanceDB',\n",
    "  'hash': '9ce35953c4234489036ecb1c26ae38bc'}}"
   ]
  },
  {
   "cell_type": "markdown",
   "metadata": {},
   "source": [
    "## Parallel Unpacking with Joblib\n",
    "\n",
    "> Unpacks tar files in multiple jobs to speed up unpacking the dataset.\n",
    "\n"
   ]
  },
  {
   "cell_type": "code",
   "execution_count": null,
   "metadata": {},
   "outputs": [],
   "source": [
    "# export\n",
    "import json\n",
    "import argparse\n",
    "import functools\n",
    "import os\n",
    "from shutil import unpack_archive\n",
    "import joblib\n",
    "from tqdm.auto import tqdm\n",
    "\n",
    "\n",
    "class ProgressParallel(joblib.Parallel):\n",
    "    def __call__(self, *args, **kwargs):\n",
    "        with tqdm(total=kwargs[\"total\"]) as self._pbar:\n",
    "            del kwargs[\"total\"]\n",
    "            return joblib.Parallel.__call__(self, *args, **kwargs)\n",
    "\n",
    "    def print_progress(self):\n",
    "        self._pbar.n = self.n_completed_tasks\n",
    "        self._pbar.refresh()\n",
    "\n",
    "def lazy_unpack(tarpath, outdir):\n",
    "    # check if this has already been unpacked by looking for hash file\n",
    "    tarpath, outdir = Path(tarpath), Path(outdir)\n",
    "    unpacks_to = hashes[tarpath.name]['unpacks_to']\n",
    "    hashpath = outdir / Path(unpacks_to+'.hash')\n",
    "    # if the hash exists and it's correct then assume the directory is correctly unpacked\n",
    "    if hashpath.exists():\n",
    "        with open(hashpath) as f:\n",
    "            h = f.read() # read hash\n",
    "        if h == hashes[tarpath.name]['hash']:\n",
    "            return None\n",
    "    else:\n",
    "        # if there's no stored hash or it doesn't match, unpack the tar file\n",
    "        unpack_archive(tarpath, outdir)\n",
    "        # calculate the hash of the unpacked directory and check it's the same\n",
    "        h = md5_dir(outdir/unpacks_to)\n",
    "        _h = hashes[tarpath.name]['hash']\n",
    "        assert h == _h,\\\n",
    "            f'Directory {outdir/unpacks_to} hash {h} != {_h}'\n",
    "        # save the calculated hash\n",
    "        with open(hashpath, 'w') as f:\n",
    "            f.write(h)\n",
    "\n",
    "def unpack_body_models(tardir, outdir, n_jobs=1, verify=False):\n",
    "    tar_root, _, tarfiles = [x for x in os.walk(tardir)][0]\n",
    "    tarfiles = [x for x in tarfiles if \"tar\" in x.split(\".\")]\n",
    "    tarpaths = [os.path.join(tar_root, tar) for tar in tarfiles]\n",
    "    for tarpath in tarpaths:\n",
    "        print(f\"{tarpath} extracting to {outdir}\")\n",
    "    unpack = lazy_unpack if verify else unpack_archive\n",
    "    ProgressParallel(n_jobs=n_jobs)(\n",
    "        (joblib.delayed(unpack)(tarpath, outdir) for tarpath in tarpaths),\n",
    "        total=len(tarpaths),\n",
    "    )\n",
    "\n",
    "\n",
    "def fast_amass_unpack():\n",
    "    parser = argparse.ArgumentParser(\n",
    "        description=\"Unpack all the body model tar files in a directory to a target directory\"\n",
    "    )\n",
    "    parser.add_argument(\n",
    "        \"tardir\",\n",
    "        type=str,\n",
    "        help=\"Directory containing tar.bz2 body model files\",\n",
    "    )\n",
    "    parser.add_argument(\n",
    "        \"outdir\",\n",
    "        type=str,\n",
    "        help=\"Output directory\",\n",
    "    )\n",
    "    parser.add_argument(\n",
    "        \"--verify\",\n",
    "        type=\"store_true\",\n",
    "        help=\"Verify the output by calculating a checksum, \"\n",
    "        \"ensures that each tar file will only be unpacked once.\"\n",
    "    )\n",
    "    parser.add_argument(\n",
    "        \"-n\",\n",
    "        default=1,\n",
    "        type=int,\n",
    "        help=\"Number of jobs to run the tar unpacking with\",\n",
    "    )\n",
    "    args = parser.parse_args()\n",
    "    unpack_body_models(args.tardir, args.outdir, n_jobs=args.n, verify=args.verify)"
   ]
  },
  {
   "cell_type": "markdown",
   "metadata": {},
   "source": [
    "Test unpacking the sample data always yields the same result:"
   ]
  },
  {
   "cell_type": "code",
   "execution_count": null,
   "metadata": {},
   "outputs": [
    {
     "name": "stdout",
     "output_type": "stream",
     "text": [
      "sample_data/sample.tar.bz2 extracting to /tmp/tmp25u4o00z\n"
     ]
    },
    {
     "data": {
      "application/vnd.jupyter.widget-view+json": {
       "model_id": "03be0e5991ba4fbda3e4c43424db97dc",
       "version_major": 2,
       "version_minor": 0
      },
      "text/plain": [
       "  0%|          | 0/1 [00:00<?, ?it/s]"
      ]
     },
     "metadata": {},
     "output_type": "display_data"
    }
   ],
   "source": [
    "import tempfile\n",
    "import hashlib\n",
    "\n",
    "# https://stackoverflow.com/a/3431838/6937913\n",
    "def md5(fname):\n",
    "    hash_md5 = hashlib.md5()\n",
    "    with open(fname, \"rb\") as f:\n",
    "        for chunk in iter(lambda: f.read(4096), b\"\"):\n",
    "            hash_md5.update(chunk)\n",
    "    return hash_md5.hexdigest()\n",
    "\n",
    "\n",
    "md5sums = {\n",
    "    \"amass_sample.npz\": \"d0b546b3619c8579ade39e3a8ccdc4e2\",\n",
    "    \"dmpl_sample.npz\": \"576bb76b2a6328dc5c276c4150c466f0\",\n",
    "}\n",
    "\n",
    "with tempfile.TemporaryDirectory() as tmpdirname:\n",
    "    unpack_body_models(\"sample_data/\", tmpdirname, 8)\n",
    "    for r, d, f in os.walk(tmpdirname):\n",
    "        npz_files = [x for x in f if \"npz\" in x.split(\".\")]\n",
    "        npz_paths = [os.path.join(tmpdirname, r, x) for x in npz_files]\n",
    "    _md5sums = {os.path.split(fpath)[-1]: md5(fpath) for fpath in npz_paths}\n",
    "\n",
    "for k in md5sums:\n",
    "    assert md5sums[k] == _md5sums[k]"
   ]
  },
  {
   "cell_type": "markdown",
   "metadata": {},
   "source": [
    "Testing that `verify=True` works as expected. Can redefine `hashes` here for testing without breaking the exported library because this cell doesn't get exported by `nbdev`."
   ]
  },
  {
   "cell_type": "code",
   "execution_count": null,
   "metadata": {},
   "outputs": [
    {
     "name": "stdout",
     "output_type": "stream",
     "text": [
      "sample_data/sample.tar.bz2 extracting to /tmp/tmp6vqj1ddr\n"
     ]
    },
    {
     "data": {
      "application/vnd.jupyter.widget-view+json": {
       "model_id": "4e54162b16a440a7835031e89f7984d1",
       "version_major": 2,
       "version_minor": 0
      },
      "text/plain": [
       "  0%|          | 0/1 [00:00<?, ?it/s]"
      ]
     },
     "metadata": {},
     "output_type": "display_data"
    },
    {
     "name": "stdout",
     "output_type": "stream",
     "text": [
      "sample_data/sample.tar.bz2 extracting to /tmp/tmp6vqj1ddr\n"
     ]
    },
    {
     "data": {
      "application/vnd.jupyter.widget-view+json": {
       "model_id": "d8aba6af9d9443909956ec11fb77d4bc",
       "version_major": 2,
       "version_minor": 0
      },
      "text/plain": [
       "  0%|          | 0/1 [00:00<?, ?it/s]"
      ]
     },
     "metadata": {},
     "output_type": "display_data"
    }
   ],
   "source": [
    "import time\n",
    "hashes = {'sample.tar.bz2': {'unpacks_to': 'sample', 'hash': 'b5a86fe22ed2799d79101a532eb0ff27'}}\n",
    "\n",
    "with tempfile.TemporaryDirectory() as tmpdirname:\n",
    "    start = time.time()\n",
    "    unpack_body_models(\"sample_data/\", tmpdirname, 8, verify=True)\n",
    "    unpacking_time = time.time() - start\n",
    "    start = time.time()\n",
    "    unpack_body_models(\"sample_data/\", tmpdirname, 8, verify=True)\n",
    "    skip_time = time.time() - start\n",
    "    assert unpacking_time > skip_time"
   ]
  },
  {
   "cell_type": "markdown",
   "metadata": {},
   "source": [
    "# Loading Functions\n",
    "\n",
    "> Load the pose data directly from the `npz` files after unpacking.\n",
    "\n",
    "Based on the [AMASS tutorial notebooks][amass], I would like to iterate over the dataset using a PyTorch Dataloader.\n",
    "\n",
    "Steps to load:\n",
    "\n",
    "1. Index all of the `npz` files in the AMASS directory\n",
    "2. Iterate through all of them in sequence\n",
    "    1. Load the `npz` file\n",
    "    1. Cut out acceptable motion sequence in center of each file (typically middle 80% of motion sequence)\n",
    "    2. _Optionally_ shuffle the dataset\n",
    "    2. Iterate over this sequence along the first dimension\n",
    "3. When running with `num_workers > 0`, give each worker a different random set of `npz` files to load\n",
    "\n",
    "To do:\n",
    "\n",
    "1. Index all of the `npz` files that make up AMASS\n",
    "2. Make an IterableDataset\n",
    "    1. Modify sample data to contain more than one `npz` file\n",
    "    2. Use buffered shuffling to randomise the data\n",
    "3. Write data loader worker management, each worker should get a different subset of the files\n",
    "\n",
    "[amass]: https://github.com/nghorbani/amass/tree/master/notebooks"
   ]
  },
  {
   "cell_type": "code",
   "execution_count": null,
   "metadata": {},
   "outputs": [],
   "source": [
    "# export\n",
    "import math\n",
    "import numpy as np\n",
    "import torch\n",
    "from torch.utils.data import IterableDataset\n",
    "from torch.utils.data import DataLoader"
   ]
  },
  {
   "cell_type": "markdown",
   "metadata": {},
   "source": [
    "Looking at the sample data:"
   ]
  },
  {
   "cell_type": "code",
   "execution_count": null,
   "metadata": {},
   "outputs": [
    {
     "name": "stdout",
     "output_type": "stream",
     "text": [
      "sample_data/sample.tar.bz2 extracting to /tmp/tmphde_6n4w\n"
     ]
    },
    {
     "data": {
      "application/vnd.jupyter.widget-view+json": {
       "model_id": "62dcd173e9174df291cee7b476598fee",
       "version_major": 2,
       "version_minor": 0
      },
      "text/plain": [
       "  0%|          | 0/1 [00:00<?, ?it/s]"
      ]
     },
     "metadata": {},
     "output_type": "display_data"
    },
    {
     "name": "stdout",
     "output_type": "stream",
     "text": [
      "/tmp/tmphde_6n4w/sample/subdir/amass_sample.npz\n",
      "   ['poses', 'gender', 'mocap_framerate', 'betas', 'marker_data', 'dmpls', 'marker_labels', 'trans']\n",
      "   [('poses', (601, 156)), ('gender', ()), ('mocap_framerate', ()), ('betas', (16,)), ('marker_data', (601, 85, 3)), ('dmpls', (601, 8)), ('marker_labels', (85,)), ('trans', (601, 3))]\n",
      "/tmp/tmphde_6n4w/sample/subdir/dmpl_sample.npz\n",
      "   ['poses', 'gender', 'mocap_framerate', 'betas', 'marker_data', 'dmpls', 'marker_labels', 'trans']\n",
      "   [('poses', (235, 156)), ('gender', ()), ('mocap_framerate', ()), ('betas', (16,)), ('marker_data', (235, 67, 3)), ('dmpls', (235, 8)), ('marker_labels', (67,)), ('trans', (235, 3))]\n"
     ]
    }
   ],
   "source": [
    "with tempfile.TemporaryDirectory() as tmpdirname:\n",
    "    unpack_body_models(\"sample_data/\", tmpdirname, 8)\n",
    "    for r, d, f in os.walk(tmpdirname):\n",
    "        npz_files = [x for x in f if \"npz\" in x.split(\".\")]\n",
    "        npz_paths = [os.path.join(tmpdirname, r, x) for x in npz_files]\n",
    "    for npz_path in npz_paths:\n",
    "        cdata = np.load(npz_path)\n",
    "        print(npz_path)\n",
    "        print(\"  \", [k for k in cdata.keys()])\n",
    "        print(\"  \", [(k, cdata[k].shape) for k in cdata.keys()])"
   ]
  },
  {
   "cell_type": "code",
   "execution_count": null,
   "metadata": {},
   "outputs": [],
   "source": [
    "#hide\n",
    "def plot_file_sizes(unpacked_directory, bins):\n",
    "    import matplotlib.pyplot as plt\n",
    "    plt.style.use('ggplot')\n",
    "\n",
    "    def walk_npz_paths(npz_directory):\n",
    "        npz_paths = []\n",
    "        for r, d, f in os.walk(npz_directory):\n",
    "            npz_files = [x for x in f if \"npz\" in x.split(\".\") and Path(x).name != 'shape.npz']\n",
    "            npz_paths += [os.path.join(npz_directory, r, x) for x in npz_files]\n",
    "        return tuple(npz_paths)\n",
    "    \n",
    "    npz_paths = walk_npz_paths(unpacked_directory)\n",
    "    \n",
    "    file_sizes = {}\n",
    "    for f in tqdm(npz_paths):\n",
    "        file_sizes[f] = os.stat(f).st_size\n",
    "    \n",
    "    x = np.array(list(file_sizes.values()))\n",
    "    bins = np.logspace(np.log10(min(x)),np.log10(max(x)), bins)\n",
    "    plt.hist(x, bins=bins)\n",
    "    plt.xscale('log')\n",
    "    plt.xlabel('File Size (bytes)')\n",
    "    plt.title('Size of numpy archives in AMASS')\n",
    "    plt.savefig('images/amass_file_sizes.png')\n",
    "# uncomment and run on unpacked AMASS directory to regenerate plot    \n",
    "# plot_file_sizes('/nobackup/gngdb/repos/amass/data', bins=50)"
   ]
  },
  {
   "cell_type": "markdown",
   "metadata": {},
   "source": [
    "The AMASS dataset is composed of 14,096 `.npz` archives (at time of writing). The size of archives varies over two orders of magnitude, between 0.1MB and 10MB.\n",
    "\n",
    "![alt text](./images/amass_file_sizes.png \"Title\")"
   ]
  },
  {
   "cell_type": "markdown",
   "metadata": {},
   "source": [
    "Other statistics we might want to know:\n",
    "\n",
    "* Length of motion sequence in each of these files\n",
    "* ..."
   ]
  },
  {
   "cell_type": "markdown",
   "metadata": {},
   "source": [
    "## `npz` File Iterator\n",
    "\n",
    "> Iterates over all the paths of all the `npz` files in AMASS."
   ]
  },
  {
   "cell_type": "code",
   "execution_count": null,
   "metadata": {},
   "outputs": [],
   "source": [
    "# exports\n",
    "def npz_paths(npz_directory):\n",
    "    npz_paths = []\n",
    "    for r, d, f in os.walk(npz_directory):\n",
    "        for fname in f:\n",
    "            if 'npz' == fname.split('.')[-1] and fname != 'shape.npz':\n",
    "                yield os.path.join(npz_directory, r, fname)"
   ]
  },
  {
   "cell_type": "code",
   "execution_count": null,
   "metadata": {},
   "outputs": [
    {
     "name": "stdout",
     "output_type": "stream",
     "text": [
      "sample_data/sample.tar.bz2 extracting to /tmp/tmps9cplwws\n"
     ]
    },
    {
     "data": {
      "application/vnd.jupyter.widget-view+json": {
       "model_id": "5d2bd9333238488f8310e17d12f96e96",
       "version_major": 2,
       "version_minor": 0
      },
      "text/plain": [
       "  0%|          | 0/1 [00:00<?, ?it/s]"
      ]
     },
     "metadata": {},
     "output_type": "display_data"
    },
    {
     "name": "stdout",
     "output_type": "stream",
     "text": [
      "/tmp/tmps9cplwws/sample/subdir/amass_sample.npz\n",
      "/tmp/tmps9cplwws/sample/subdir/dmpl_sample.npz\n"
     ]
    }
   ],
   "source": [
    "with tempfile.TemporaryDirectory() as tmpdirname:\n",
    "    unpack_body_models(\"sample_data/\", tmpdirname, 8)\n",
    "    for npz_path in npz_paths(tmpdirname):\n",
    "        print(npz_path)"
   ]
  },
  {
   "cell_type": "code",
   "execution_count": null,
   "metadata": {},
   "outputs": [],
   "source": [
    "#hide\n",
    "#len([npz_path for npz_path in npz_paths('/nobackup/gngdb/repos/amass/data')])"
   ]
  },
  {
   "cell_type": "markdown",
   "metadata": {},
   "source": [
    "## Viable Indexes\n",
    "\n",
    "For every `npz` file I need to pull out the viable indexes:"
   ]
  },
  {
   "cell_type": "code",
   "execution_count": null,
   "metadata": {},
   "outputs": [],
   "source": [
    "#exports\n",
    "def viable_slice(cdata, keep):\n",
    "    \"\"\"\n",
    "    Inspects a dictionary loaded from `.npz` numpy dumps\n",
    "    and creates a slice of the viable indexes.\n",
    "    args:\n",
    "\n",
    "        - `cdata`: dictionary containing keys:\n",
    "            ['poses', 'gender', 'mocap_framerate', 'betas',\n",
    "             'marker_data', 'dmpls', 'marker_labels', 'trans']\n",
    "        - `keep`: ratio of the file to keep, between zero and 1.,\n",
    "            drops leading and trailing ends of the arrays\n",
    "\n",
    "    returns:\n",
    "\n",
    "        - viable: slice that can access frames in the arrays:\n",
    "            cdata['poses'], cdata['marker_data'], cdata['dmpls'], cdata['trans']\n",
    "    \"\"\"\n",
    "    assert (\n",
    "        keep > 0.0 and keep <= 1.0\n",
    "    ), \"Proportion of array to keep must be between zero and one\"\n",
    "    n = cdata[\"poses\"].shape[0]\n",
    "    drop = (1.0 - keep) / 2.0\n",
    "    return slice(int(n * drop), int(n * keep + n * drop))"
   ]
  },
  {
   "cell_type": "code",
   "execution_count": null,
   "metadata": {},
   "outputs": [
    {
     "name": "stdout",
     "output_type": "stream",
     "text": [
      "sample_data/sample.tar.bz2 extracting to /tmp/tmpv6jj36bl\n"
     ]
    },
    {
     "data": {
      "application/vnd.jupyter.widget-view+json": {
       "model_id": "a7850242eb0440099efb2286fa269c2c",
       "version_major": 2,
       "version_minor": 0
      },
      "text/plain": [
       "  0%|          | 0/1 [00:00<?, ?it/s]"
      ]
     },
     "metadata": {},
     "output_type": "display_data"
    },
    {
     "name": "stdout",
     "output_type": "stream",
     "text": [
      "/tmp/tmpv6jj36bl/sample/subdir/amass_sample.npz\n",
      "   slice(60, 540, None)\n",
      "/tmp/tmpv6jj36bl/sample/subdir/dmpl_sample.npz\n",
      "   slice(23, 211, None)\n"
     ]
    }
   ],
   "source": [
    "with tempfile.TemporaryDirectory() as tmpdirname:\n",
    "    unpack_body_models(\"sample_data/\", tmpdirname, 8)\n",
    "    for npz_path in npz_paths(tmpdirname):\n",
    "        cdata = np.load(npz_path)\n",
    "        print(npz_path)\n",
    "        print(\"  \", viable_slice(cdata, 0.8))"
   ]
  },
  {
   "cell_type": "markdown",
   "metadata": {},
   "source": [
    "## `npz` Contents Iterator\n",
    "\n",
    "> Loads an `.npz` file and iterates over the examples within."
   ]
  },
  {
   "cell_type": "code",
   "execution_count": null,
   "metadata": {},
   "outputs": [],
   "source": [
    "# exports\n",
    "def npz_contents(npz_path, clip_length, overlapping, keep=0.8,\n",
    "                 keys=('poses', 'dmpls', 'trans', 'betas', 'gender'), shuffle=False):\n",
    "    assert shuffle == False, 'Shuffle not implemented'\n",
    "    # cache this because we will often be accessing the same file multiple times\n",
    "    cdata = np.load(npz_path)\n",
    "\n",
    "    # slice of viable indices\n",
    "    viable = viable_slice(cdata, keep)\n",
    "    \n",
    "    # slice iterator\n",
    "    def clip_slices(viable, clip_length, overlapping):\n",
    "        i = 0\n",
    "        step = 1 if overlapping else clip_length\n",
    "        for i in range(viable.start, viable.stop, step):\n",
    "            if i+clip_length < viable.stop:\n",
    "                yield slice(i, i+clip_length)\n",
    "    # buffer the iterator and shuffle here, when implementing that\n",
    "    \n",
    "    # iterate over slices\n",
    "    for s in clip_slices(viable, clip_length, overlapping):\n",
    "        data = {}\n",
    "        # unpack and enforce data type\n",
    "        to_load = [k for k in ('poses', 'dmpls', 'trans') if k in keys]\n",
    "        for k in to_load:\n",
    "            data[k] = cdata[k][s].astype(np.float32)\n",
    "        if 'betas' in keys:\n",
    "            r = s.stop - s.start\n",
    "            data['betas'] = np.repeat(\n",
    "                cdata[\"betas\"][np.newaxis].astype(np.float32), repeats=r, axis=0\n",
    "            )\n",
    "        if 'gender' in keys:\n",
    "            def gender_to_int(g):\n",
    "                # casting gender to integer will raise a warning in future\n",
    "                g = str(g.astype(str))\n",
    "                return {\"male\": -1, \"neutral\": 0, \"female\": 1}[g]\n",
    "            data['gender'] = np.array([gender_to_int(cdata[\"gender\"]) for _ in range(s.start, s.stop)])\n",
    "        yield data"
   ]
  },
  {
   "cell_type": "code",
   "execution_count": null,
   "metadata": {},
   "outputs": [
    {
     "name": "stdout",
     "output_type": "stream",
     "text": [
      "sample_data/sample.tar.bz2 extracting to /tmp/tmp8k2fg813\n"
     ]
    },
    {
     "data": {
      "application/vnd.jupyter.widget-view+json": {
       "model_id": "4938349e292d49b19c6c85d9c2bddc7e",
       "version_major": 2,
       "version_minor": 0
      },
      "text/plain": [
       "  0%|          | 0/1 [00:00<?, ?it/s]"
      ]
     },
     "metadata": {},
     "output_type": "display_data"
    },
    {
     "name": "stdout",
     "output_type": "stream",
     "text": [
      "[('poses', (1, 156)), ('dmpls', (1, 8)), ('trans', (1, 3)), ('betas', (1, 16)), ('gender', (1,))]\n",
      "[('poses', (1, 156)), ('dmpls', (1, 8)), ('trans', (1, 3)), ('betas', (1, 16)), ('gender', (1,))]\n",
      "sample_data/sample.tar.bz2 extracting to /tmp/tmp4qq93atu\n"
     ]
    },
    {
     "data": {
      "application/vnd.jupyter.widget-view+json": {
       "model_id": "313ba52731f44b6db8cd0d65a6a7ed0d",
       "version_major": 2,
       "version_minor": 0
      },
      "text/plain": [
       "  0%|          | 0/1 [00:00<?, ?it/s]"
      ]
     },
     "metadata": {},
     "output_type": "display_data"
    },
    {
     "name": "stdout",
     "output_type": "stream",
     "text": [
      "[('poses', (3, 156)), ('dmpls', (3, 8)), ('trans', (3, 3)), ('betas', (3, 16)), ('gender', (3,))]\n",
      "[('poses', (3, 156)), ('dmpls', (3, 8)), ('trans', (3, 3)), ('betas', (3, 16)), ('gender', (3,))]\n",
      "sample_data/sample.tar.bz2 extracting to /tmp/tmp_vif8kyl\n"
     ]
    },
    {
     "data": {
      "application/vnd.jupyter.widget-view+json": {
       "model_id": "e15c1a2b7a8e4d0398fe95fb1b30ad43",
       "version_major": 2,
       "version_minor": 0
      },
      "text/plain": [
       "  0%|          | 0/1 [00:00<?, ?it/s]"
      ]
     },
     "metadata": {},
     "output_type": "display_data"
    },
    {
     "name": "stdout",
     "output_type": "stream",
     "text": [
      "[('poses', (3, 156)), ('dmpls', (3, 8)), ('trans', (3, 3)), ('betas', (3, 16)), ('gender', (3,))]\n",
      "[('poses', (3, 156)), ('dmpls', (3, 8)), ('trans', (3, 3)), ('betas', (3, 16)), ('gender', (3,))]\n"
     ]
    }
   ],
   "source": [
    "def test_load_npz(clip_length, overlapping):\n",
    "    with tempfile.TemporaryDirectory() as tmpdirname:\n",
    "        unpack_body_models(\"sample_data/\", tmpdirname, 8)\n",
    "        for npz_path in npz_paths(tmpdirname):\n",
    "            for data in npz_contents(npz_path, clip_length, overlapping):\n",
    "                print([(k, data[k].shape) for k in data])\n",
    "                for k in data:\n",
    "                    assert data[k].shape[0] == clip_length\n",
    "                break\n",
    "\n",
    "test_load_npz(1, False)\n",
    "test_load_npz(3, False)\n",
    "test_load_npz(3, True)"
   ]
  },
  {
   "cell_type": "markdown",
   "metadata": {},
   "source": [
    "# PyTorch Dataset Class\n",
    "\n",
    "Creating a map-style PyTorch Dataset Class that uses these functions to load the data."
   ]
  },
  {
   "cell_type": "code",
   "execution_count": null,
   "metadata": {},
   "outputs": [],
   "source": [
    "# export\n",
    "class AMASS(IterableDataset):\n",
    "    def __init__(self, amass_location, clip_length, overlapping,\n",
    "                 transform=None,\n",
    "                 data_keys=('poses', 'dmpls', 'trans', 'betas', 'gender')):\n",
    "        \n",
    "        self.transform = transform\n",
    "        self.data_keys = data_keys\n",
    "        # these should be shuffled but pull shuffle argument out of dataloader worker arguments\n",
    "        self.npz_paths = [npz_path for npz_path in npz_paths(amass_location)]\n",
    "        self.clip_length = clip_length\n",
    "        self.overlapping = overlapping\n",
    "\n",
    "    def __len__(self):\n",
    "        raise NotImplementedError('Files are not inspected at initialisation so length is unknown.')\n",
    "\n",
    "    def __iter__(self):\n",
    "        for npz_path in self.npz_paths:\n",
    "            for data in npz_contents(npz_path, self.clip_length, self.overlapping):\n",
    "                yield {k:self.transform(data[k]) for k in data}"
   ]
  },
  {
   "cell_type": "markdown",
   "metadata": {},
   "source": [
    "Test I can load some data with this Dataset:"
   ]
  },
  {
   "cell_type": "code",
   "execution_count": null,
   "metadata": {},
   "outputs": [
    {
     "name": "stdout",
     "output_type": "stream",
     "text": [
      "sample_data/sample.tar.bz2 extracting to /tmp/tmpminiu82y\n"
     ]
    },
    {
     "data": {
      "application/vnd.jupyter.widget-view+json": {
       "model_id": "b1a0d0bcf44a4651af977f71aa4a6031",
       "version_major": 2,
       "version_minor": 0
      },
      "text/plain": [
       "  0%|          | 0/1 [00:00<?, ?it/s]"
      ]
     },
     "metadata": {},
     "output_type": "display_data"
    },
    {
     "name": "stdout",
     "output_type": "stream",
     "text": [
      "poses torch.Size([1, 156])\n",
      "dmpls torch.Size([1, 8])\n",
      "trans torch.Size([1, 3])\n",
      "betas torch.Size([1, 16])\n",
      "gender torch.Size([1])\n"
     ]
    }
   ],
   "source": [
    "with tempfile.TemporaryDirectory() as tmpdirname:\n",
    "    unpack_body_models(\"sample_data/\", tmpdirname, 8)\n",
    "    amass = AMASS(tmpdirname, overlapping=False, clip_length=1, transform=torch.tensor)\n",
    "    for data in amass:\n",
    "        for k in data:\n",
    "            print(k, data[k].shape)\n",
    "            assert type(data[k]) is torch.Tensor\n",
    "        break"
   ]
  },
  {
   "cell_type": "markdown",
   "metadata": {},
   "source": [
    "Test it works in a DataLoader to make batches:"
   ]
  },
  {
   "cell_type": "code",
   "execution_count": null,
   "metadata": {},
   "outputs": [
    {
     "name": "stdout",
     "output_type": "stream",
     "text": [
      "sample_data/sample.tar.bz2 extracting to /tmp/tmpoma8pz75\n"
     ]
    },
    {
     "data": {
      "application/vnd.jupyter.widget-view+json": {
       "model_id": "7af51ffe58934fc0bc4b9d6b7e312a2b",
       "version_major": 2,
       "version_minor": 0
      },
      "text/plain": [
       "  0%|          | 0/1 [00:00<?, ?it/s]"
      ]
     },
     "metadata": {},
     "output_type": "display_data"
    },
    {
     "name": "stdout",
     "output_type": "stream",
     "text": [
      "poses torch.Size([4, 1, 156])\n",
      "dmpls torch.Size([4, 1, 8])\n",
      "trans torch.Size([4, 1, 3])\n",
      "betas torch.Size([4, 1, 16])\n",
      "gender torch.Size([4, 1])\n"
     ]
    }
   ],
   "source": [
    "with tempfile.TemporaryDirectory() as tmpdirname:\n",
    "    unpack_body_models(\"sample_data/\", tmpdirname, 8)\n",
    "    amass = AMASS(tmpdirname, overlapping=False, clip_length=1, transform=torch.tensor)\n",
    "    amasstrain = DataLoader(amass, batch_size=4)\n",
    "    for i, data in enumerate(amasstrain):\n",
    "        for k in data:\n",
    "            print(k, data[k].shape)\n",
    "        assert data[\"poses\"].size(0) == 4, f'{data[\"poses\"].size()}'\n",
    "        break"
   ]
  },
  {
   "cell_type": "markdown",
   "metadata": {},
   "source": [
    "# Caching\n",
    "\n",
    "Initially when I tried to load from AMASS using just a single worker (more than one worker accessing the `npz` files directly would lock up), the estimate of runtime just to iterate over the dataset was going to 160 hours. That's not practical, so I decided to use `joblib.Memory` to cache loading of the `npz` files.\n",
    "\n",
    "This also involves caching the dictionary of `viable_slices` above."
   ]
  },
  {
   "cell_type": "code",
   "execution_count": null,
   "metadata": {},
   "outputs": [],
   "source": [
    "def cache_amass():\n",
    "    parser = argparse.ArgumentParser(\n",
    "        description=\"Cache the data using joblib.Memory\"\n",
    "    )\n",
    "    parser.add_argument(\n",
    "        \"amassdir\",\n",
    "        type=str,\n",
    "        help=\"Directory where AMASS has been unpacked\",\n",
    "    )\n",
    "    parser.add_argument(\n",
    "        \"--verify\",\n",
    "        type=\"store_true\",\n",
    "        help=\"Verify the output by calculating a checksum, \"\n",
    "        \"ensures that each tar file will only be unpacked once.\"\n",
    "    )\n",
    "    parser.add_argument(\n",
    "        \"--num-workers\",\n",
    "        default=1,\n",
    "        type=int,\n",
    "        help=\"Number of Dataloader workers to run the caching with\",\n",
    "    )\n",
    "    parser.add_argument(\"--bytes-limit\",\n",
    "        default=None,\n",
    "        type=int,\n",
    "        help=\"Limit of bytes to store on disk (this means some data will not be cached)\"\n",
    "    )\n",
    "    args = parser.parse_args()\n",
    "    unpack_body_models(args.tardir, args.outdir, n_jobs=args.n, verify=args.verify)"
   ]
  },
  {
   "cell_type": "code",
   "execution_count": null,
   "metadata": {},
   "outputs": [],
   "source": [
    "#hide\n",
    "from nbdev.export import notebook2script; notebook2script()"
   ]
  }
 ],
 "metadata": {
  "kernelspec": {
   "display_name": "Python 3",
   "language": "python",
   "name": "python3"
  }
 },
 "nbformat": 4,
 "nbformat_minor": 2
}
