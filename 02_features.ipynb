{
 "cells": [
  {
   "cell_type": "code",
   "execution_count": null,
   "id": "71d044d5",
   "metadata": {},
   "outputs": [],
   "source": [
    "# default_exp features"
   ]
  },
  {
   "cell_type": "markdown",
   "id": "05becd32",
   "metadata": {},
   "source": [
    "# Feature Statistics\n",
    "\n",
    "> Gathering information about the statistics of features in the entire dataset and each component dataset.\n",
    "\n",
    "I'm going to put some figures in here about the features statistics. I want to check that features don't have zero variance.\n",
    "\n",
    "The features are the numpy arrays named `poses` in each `.npz` archive. It is a sequence of 3D [euler angles](https://en.wikipedia.org/wiki/Euler_angles) referring to both hand and body joints.\n",
    "\n",
    "```\n",
    "'root_orient': data['poses'][:, :3],   # controls the global root orientation\n",
    "'pose_body':   data['poses'][:, 3:66], # controls the body\n",
    "'pose_hand':   data['poses'][:, 66:],  # controls finger articulation\n",
    "```\n",
    "\n",
    "I do not know which joints are at what index in this pose vector.\n",
    "\n",
    "I have concatenated the global body translation array to this because together they are sufficient to describe the pose:\n",
    "\n",
    "```\n",
    "'trans': data['trans'],                # controls global body position\n",
    "```"
   ]
  },
  {
   "cell_type": "code",
   "execution_count": null,
   "id": "cc80f7ae",
   "metadata": {},
   "outputs": [],
   "source": [
    "# hide\n",
    "from nbdev.showdoc import *"
   ]
  },
  {
   "cell_type": "code",
   "execution_count": null,
   "id": "ae49fedc",
   "metadata": {},
   "outputs": [
    {
     "data": {
      "application/vnd.jupyter.widget-view+json": {
       "model_id": "883debd976fc49169ddf8c92b866f651",
       "version_major": 2,
       "version_minor": 0
      },
      "text/plain": [
       "  0%|          | 0/14096 [00:00<?, ?it/s]"
      ]
     },
     "metadata": {},
     "output_type": "display_data"
    }
   ],
   "source": [
    "#exports\n",
    "import json\n",
    "import gzip\n",
    "import joblib\n",
    "import numpy as np\n",
    "import llamass.core\n",
    "from llamass.tqdm import ProgressParallel\n",
    "\n",
    "\n",
    "def calculate_stats(npz_path):\n",
    "    data = np.load(npz_path)\n",
    "    pose = np.concatenate([data['poses'], data['trans']], axis=1)\n",
    "    return npz_path, (np.mean(pose, 0), np.std(pose, 0), pose.shape[0])\n",
    "\n",
    "def stats_for_paths(unpacked_directory, n_jobs):\n",
    "    paths = [p for p in llamass.core.npz_paths(unpacked_directory)]\n",
    "    return ProgressParallel(n_jobs=n_jobs)(\n",
    "        [joblib.delayed(calculate_stats)(npz_path) for npz_path in paths], total=len(paths)\n",
    "    )\n",
    "\n",
    "def jsonize(stats):\n",
    "    return [(p, (list(m), list(s))) for p, (m, s) in stats]\n",
    "\n",
    "#amass_loc = '/nobackup/gngdb/repos/amass/data'\n",
    "#stats = stats_for_paths(amass_loc, 8)"
   ]
  },
  {
   "cell_type": "code",
   "execution_count": null,
   "id": "d7aa9fa8",
   "metadata": {},
   "outputs": [],
   "source": [
    "import os\n",
    "from pathlib import Path\n",
    "import matplotlib.pyplot as plt\n",
    "plt.style.use('ggplot')\n",
    "\n",
    "def plot_stats(stats, savedir='.'):\n",
    "    means, stds, weights = [], [], []\n",
    "    for p, (m, s, n) in stats:\n",
    "        means.append(m)\n",
    "        stds.append(s)\n",
    "        weights.append(n)\n",
    "    means, stds, weights = np.stack(means), np.stack(stds), np.stack(weights)\n",
    "    # iterate over feature indexes\n",
    "    for i in range(means.shape[1]):\n",
    "        path = Path(savedir)/Path(f'feature_{i:03d}.png')\n",
    "        m, s = means[:, i], stds[:, i]\n",
    "        fig, axes = plt.subplots(nrows=1, ncols=2, figsize=(8, 5))\n",
    "        axes[0].hist(m, bins=32, weights=weights)\n",
    "        axes[0].set_xlabel('Mean')\n",
    "        axes[0].set_title(f'Feature {i} Means in Files')\n",
    "        axes[1].hist(s, bins=32, weights=weights)\n",
    "        axes[1].set_xlabel('Standard Deviation')\n",
    "        axes[1].set_yscale('log')\n",
    "        axes[1].set_title(f'Feature {i} Sigmas in Files')\n",
    "        fig.tight_layout()\n",
    "        fig.savefig(path)\n",
    "        plt.close()\n",
    "savedir = Path('images/features')\n",
    "#if not savedir.exists():\n",
    "#    os.mkdir(savedir)\n",
    "#plot_stats(stats, savedir=savedir)"
   ]
  },
  {
   "cell_type": "code",
   "execution_count": null,
   "id": "509d5022",
   "metadata": {},
   "outputs": [],
   "source": [
    "from IPython.display import Image, display"
   ]
  },
  {
   "cell_type": "code",
   "execution_count": null,
   "id": "69c5d7fa",
   "metadata": {},
   "outputs": [],
   "source": [
    "import subprocess\n",
    "\n",
    "if not savedir.exists():\n",
    "    subprocess.run([\"git\",\n",
    "                    \"clone\",\n",
    "                    \"https://gist.github.com/680d0a7df321c79338e568fbba62667a.git\",\n",
    "                    \"images/features\"])"
   ]
  },
  {
   "cell_type": "code",
   "execution_count": null,
   "id": "820f2eed",
   "metadata": {},
   "outputs": [],
   "source": [
    "def display_plots():\n",
    "    for p in sorted(savedir.glob('*')):\n",
    "        if p.is_file():\n",
    "            display(Image(p))"
   ]
  },
  {
   "cell_type": "markdown",
   "id": "e7edc8dd",
   "metadata": {},
   "source": [
    "Plots are not displayed here to avoid repo bloat (every time I regenerate them it'd add 3MB to the git history). They are in [this gist instead](https://gist.github.com/gngdb/680d0a7df321c79338e568fbba62667a).\n",
    "\n",
    "If you're running this locally the above cells will have cloned the gist so you can plot with `display_plots`."
   ]
  },
  {
   "cell_type": "code",
   "execution_count": null,
   "id": "30529629",
   "metadata": {},
   "outputs": [],
   "source": []
  }
 ],
 "metadata": {
  "kernelspec": {
   "display_name": "Python 3",
   "language": "python",
   "name": "python3"
  }
 },
 "nbformat": 4,
 "nbformat_minor": 5
}
