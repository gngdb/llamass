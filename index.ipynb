{
 "cells": [
  {
   "cell_type": "code",
   "execution_count": null,
   "metadata": {},
   "outputs": [],
   "source": [
    "#hide\n",
    "from your_lib.core import *"
   ]
  },
  {
   "cell_type": "markdown",
   "metadata": {},
   "source": [
    "# llamass\n",
    "\n",
    "> A Light Loader for the [AMASS dataset][amass] to make downloading and training on it easier.\n",
    "\n",
    "Explanation here that this is specifically for my project but could be useful for other people.\n",
    "\n",
    "[amass]: https://amass.is.tue.mpg.de/"
   ]
  },
  {
   "cell_type": "markdown",
   "metadata": {},
   "source": [
    "To do:\n",
    "\n",
    "* A way to store where the dataset has been unpacked so it can be accessed from anywhere later (probably as to append to bashrc, and backup old bashrc first)\n",
    "* Note here about the dataset license\n",
    "* Instructions on how to download the dataset\n",
    "* Instructions on how to install the requirements (write while installing requirements)\n",
    "* Augmentations pulled from original AMASS repo\n",
    "* Install nbqa and black, run on existing notebooks\n",
    "* Deal with train/test splits by unpacking to different locations\n",
    "* Add CC licensed picture of llamas to github preview"
   ]
  },
  {
   "cell_type": "markdown",
   "metadata": {},
   "source": [
    "## Install"
   ]
  },
  {
   "cell_type": "markdown",
   "metadata": {},
   "source": [
    "REWRITE THIS MOST IS NOT REQUIRED\n",
    "\n",
    "Dependencies and their associated license requirements:\n",
    "\n",
    "* [Human Body Prior][hbp], licensed under the [SMPL-X project][smplx]\n",
    "\n",
    "Not required:\n",
    "\n",
    "* The [AMASS repository][amassrepo], licensed under the [AMASS project][amass]\n",
    "* [Pytables][]\n",
    "\n",
    "These have their own `requirements.txt`, often without version numbers and including unnecessary packages, making installation brittle and hostile to continuous integration. I have done my best to provide a single install procedure that should work with all of these but I can't guarantee anything. I have pinned repository installations to specific versions of each repository to try to keep it stable.\n",
    "\n",
    "### License Agreement\n",
    "\n",
    "Before using the AMASS dataset you're expected to sign up to the license agreeement [here][amass].\n",
    "\n",
    "### Requirements Before Install\n",
    "\n",
    "For [MPI's mesh library][mesh], `libboost-dev` is required:\n",
    "\n",
    "```\n",
    "sudo apt-get install libboost-dev\n",
    "```\n",
    "\n",
    "\n",
    "\n",
    "### Install with pip\n",
    "\n",
    "To do: note here about how to install pytorch if you want to have cuda, otherwise the next step will install the regular version.\n",
    "\n",
    "`pip install your_project_name`\n",
    "\n",
    "### For Visualization\n",
    "\n",
    "For visualization in notebooks it's also necessary to install:\n",
    "\n",
    "* [Body Visualizer][body], licensed under the [SMPL-X project][smplx]\n",
    "* MAYBE [mesh][], does not require a sign up page\n",
    "\n",
    "**To do**: provide script to install this and all its requirements.\n",
    "\n",
    "\n",
    "\n",
    "[amassrepo]: https://github.com/nghorbani/amass/blob/master/notebooks/01-AMASS_Visualization.ipynb\n",
    "[body]: https://github.com/nghorbani/body_visualizer\n",
    "[smplx]: https://smpl-x.is.tue.mpg.de/\n",
    "[mesh]: https://github.com/MPI-IS/mesh\n",
    "[amass]: https://amass.is.tue.mpg.de/index.html\n",
    "[pytables]: https://www.pytables.org/index.html"
   ]
  },
  {
   "cell_type": "markdown",
   "metadata": {},
   "source": [
    "## How to use"
   ]
  },
  {
   "cell_type": "markdown",
   "metadata": {},
   "source": [
    "To do: explain these steps\n",
    "\n",
    "Steps:\n",
    "\n",
    "1. Unpack the dataset\n",
    "2. Maybe not: Prepare the dataset\n",
    "3. Use the PyTorch Dataset in a DataLoader"
   ]
  },
  {
   "cell_type": "markdown",
   "metadata": {},
   "source": [
    "## Future Work\n",
    "\n",
    "Caching"
   ]
  }
 ],
 "metadata": {
  "kernelspec": {
   "display_name": "Python 3",
   "language": "python",
   "name": "python3"
  }
 },
 "nbformat": 4,
 "nbformat_minor": 2
}
