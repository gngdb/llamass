{
 "cells": [
  {
   "cell_type": "markdown",
   "metadata": {},
   "source": [
    "# llamass\n",
    "\n",
    "> A Light Loader for the [AMASS dataset][amass] to make downloading and training on it easier.\n",
    "\n",
    "I'm writing this to use in a project working with pose data. I wanted to be able to install it in colab notebooks and elsewhere easily. Hopefully it's also useful for other people but be aware this is research code so not necessarily reliable.\n",
    "\n",
    "[amass]: https://amass.is.tue.mpg.de/"
   ]
  },
  {
   "cell_type": "markdown",
   "metadata": {},
   "source": [
    "To do:\n",
    "\n",
    "* ~~Note here about the dataset license~~\n",
    "* ~~Instructions on how to download the dataset~~\n",
    "* Instructions on how to install the requirements for visualization\n",
    "* Augmentations pulled from original AMASS repo\n",
    "* ~~Install nbqa and black, run on existing notebooks~~\n",
    "* Example train/test splits by unpacking different datasets to different locations\n",
    "* Add CC licensed picture of llamas to github preview\n",
    "* add to pypi"
   ]
  },
  {
   "cell_type": "markdown",
   "metadata": {},
   "source": [
    "## Install"
   ]
  },
  {
   "cell_type": "markdown",
   "metadata": {},
   "source": [
    "### License Agreement\n",
    "\n",
    "Before using the AMASS dataset I'm expected to sign up to the license agreeement [here][amass]. This package doesn't require any other code from MPI but visualization of pose data does, see below.\n",
    "\n",
    "### Install with pip\n",
    "\n",
    "Requirements are handled by pip during the install but in a new environment I would install [pytorch][]\n",
    "first to install it with cuda.\n",
    "\n",
    "`pip install llamass`\n",
    "\n",
    "### For Visualization\n",
    "\n",
    "**To do**: provide script to install this and all its requirements (for curl into bash on colab would be nice)\n",
    "\n",
    "* [Human Body Prior][hbp], licensed under the [SMPL-X project][smplx]\n",
    "* [Body Visualizer][body], licensed under the [SMPL-X project][smplx]\n",
    "* MAYBE [mesh][], does not require a sign up page\n",
    "\n",
    "For [MPI's mesh library][mesh], `libboost-dev` is required:\n",
    "\n",
    "```\n",
    "sudo apt-get install libboost-dev\n",
    "```\n",
    "\n",
    "[hbp]: https://github.com/nghorbani/human_body_prior\n",
    "[pytorch]: https://pytorch.org/get-started/locally/\n",
    "[amassrepo]: https://github.com/nghorbani/amass/blob/master/notebooks/01-AMASS_Visualization.ipynb\n",
    "[body]: https://github.com/nghorbani/body_visualizer\n",
    "[smplx]: https://smpl-x.is.tue.mpg.de/\n",
    "[mesh]: https://github.com/MPI-IS/mesh\n",
    "[amass]: https://amass.is.tue.mpg.de/index.html\n",
    "[pytables]: https://www.pytables.org/index.html"
   ]
  },
  {
   "cell_type": "markdown",
   "metadata": {},
   "source": [
    "## How to use"
   ]
  },
  {
   "cell_type": "markdown",
   "metadata": {},
   "source": [
    "### Downloading the data\n",
    "\n",
    "The [AMASS website][amass] provides links to download the various parts of the AMASS dataset. Each is provided as a `.tar.bz2` and I had to download them from the website by hand. Save all of these in a folder somehwere.\n",
    "\n",
    "### Unpacking the data\n",
    "\n",
    "After installing `llamass` a console script is provided to unpack the `tar.bz2` files downloaded from the [AMASS][] website:\n",
    "\n",
    "```\n",
    "fast_amass_unpack -n 4 <.tar.bz2 directory> <directory to save unpacked data>\n",
    "```\n",
    "\n",
    "This will unpack the data in parallel in 4 jobs and provides a progress bar.\n",
    "\n",
    "Alternatively, this can be access in the library using the `llamass.core.unpack_body_models` function:\n",
    "\n",
    "[amass]: https://amass.is.tue.mpg.de/index.html"
   ]
  },
  {
   "cell_type": "code",
   "execution_count": null,
   "metadata": {},
   "outputs": [],
   "source": [
    "# hide\n",
    "import tempfile\n",
    "import shutil\n",
    "\n",
    "unpacked_directory = tempfile.mkdtemp()"
   ]
  },
  {
   "cell_type": "code",
   "execution_count": null,
   "metadata": {},
   "outputs": [
    {
     "name": "stdout",
     "output_type": "stream",
     "text": [
      "sample_data/sample.tar.bz2 extracting to /tmp/tmp2mpzo7r2\n"
     ]
    },
    {
     "data": {
      "application/vnd.jupyter.widget-view+json": {
       "model_id": "2122be782ba841e0816ae5aa19e362c7",
       "version_major": 2,
       "version_minor": 0
      },
      "text/plain": [
       "  0%|          | 0/1 [00:00<?, ?it/s]"
      ]
     },
     "metadata": {},
     "output_type": "display_data"
    }
   ],
   "source": [
    "import llamass.core\n",
    "\n",
    "llamass.core.unpack_body_models(\"sample_data/\", unpacked_directory, 4)"
   ]
  },
  {
   "cell_type": "markdown",
   "metadata": {},
   "source": [
    "### Using the data\n",
    "\n",
    "Once the data is unpacked it can be loaded by a PyTorch DataLoader directly using the `llamass.core.AMASS` Dataset class.\n",
    "\n",
    "* `overlapping`: whether the clips of frames taken from each file should be allowed to overlap\n",
    "* `clip_length`: how long should clips from each file be?\n",
    "* `transform`: a transformation function apply to all fields"
   ]
  },
  {
   "cell_type": "code",
   "execution_count": null,
   "metadata": {},
   "outputs": [],
   "source": [
    "import torch\n",
    "from torch.utils.data import DataLoader\n",
    "\n",
    "amass = llamass.core.AMASS(\n",
    "    unpacked_directory, overlapping=False, clip_length=1, transform=torch.tensor\n",
    ")"
   ]
  },
  {
   "cell_type": "code",
   "execution_count": null,
   "metadata": {},
   "outputs": [
    {
     "data": {
      "text/plain": [
       "{'poses': tensor([[ 8.8278e-01,  9.1215e-01,  1.4123e+00, -7.6931e-01, -1.7432e-01,\n",
       "           1.4412e-01, -8.8708e-01,  1.2578e-01, -1.1743e-01,  6.2168e-01,\n",
       "          -3.0015e-02, -5.0349e-02,  1.2079e+00, -5.5397e-02, -2.9298e-01,\n",
       "           1.3664e+00, -4.8525e-02,  9.4145e-02, -1.2289e-01, -1.7571e-03,\n",
       "           2.2975e-02, -4.0428e-02,  1.7674e-02,  7.5107e-03,  2.2632e-01,\n",
       "          -5.2651e-02,  1.2855e-01, -2.5180e-02, -2.4160e-02, -2.0444e-02,\n",
       "           0.0000e+00,  0.0000e+00,  0.0000e+00,  0.0000e+00,  0.0000e+00,\n",
       "           0.0000e+00, -2.9401e-02, -1.1034e-01,  1.4105e-02, -5.7415e-03,\n",
       "          -2.5916e-01, -6.3831e-01, -8.2118e-02,  3.6791e-01,  4.3686e-01,\n",
       "           3.3646e-01,  4.1084e-02,  5.4173e-02,  3.0905e-01, -2.4670e-01,\n",
       "          -7.1902e-01,  1.2193e-01,  4.5621e-01,  3.2485e-01,  2.3960e-01,\n",
       "          -1.6219e+00,  4.4240e-01,  2.7042e-01,  1.7819e+00, -5.1572e-01,\n",
       "          -1.2912e-02, -1.2738e-01,  3.7089e-01,  1.1892e-01, -7.0561e-02,\n",
       "           6.9949e-02,  2.9811e-01, -1.5940e-01,  7.2650e-02, -1.2700e-01,\n",
       "          -4.6106e-02, -1.3061e-01, -4.6657e-02, -1.3755e-02, -1.9340e-01,\n",
       "          -1.8488e-01,  2.1123e-01, -1.1649e-01, -1.5284e-01,  7.5247e-02,\n",
       "          -1.0174e+00,  2.7336e-02, -1.3719e-01, -1.9953e-01, -6.0931e-01,\n",
       "           1.7453e-01, -5.2527e-01,  1.9633e-01, -1.5435e-02, -5.0789e-01,\n",
       "          -5.9722e-01, -3.0975e-02,  8.8964e-02, -2.4794e-01,  1.6460e-01,\n",
       "          -5.9515e-01, -1.7807e-01,  4.5450e-02, -4.0581e-01, -1.6256e-01,\n",
       "          -2.1566e-01, -2.6343e-01,  1.4715e+00,  3.3034e-01, -4.4416e-01,\n",
       "          -7.1300e-01, -4.1882e-01,  3.7449e-01,  6.2814e-01,  7.9259e-02,\n",
       "          -4.0158e-01,  1.3215e-01, -7.3160e-02,  7.5620e-01,  2.5732e-01,\n",
       "           1.1187e-01,  6.6922e-01, -2.0742e-01,  1.5713e-01, -6.6628e-02,\n",
       "          -2.0170e-01, -2.5842e-02,  8.0069e-01, -1.2071e-01, -1.2434e-01,\n",
       "           9.0385e-01,  5.5542e-02,  2.0036e-01,  4.2557e-01, -6.8690e-01,\n",
       "          -8.5928e-02,  3.8910e-01,  8.3299e-01, -2.6452e-01,  1.1903e-01,\n",
       "          -6.2685e-01, -2.1657e-01, -3.2647e-01, -2.1732e-01,  6.6137e-02,\n",
       "           5.8971e-01, -3.1604e-01,  3.0754e-02,  8.7229e-01, -1.8293e-01,\n",
       "           1.7172e-01,  4.3822e-01,  1.1091e+00, -6.0599e-01,  1.7735e-01,\n",
       "          -6.4371e-01,  1.1003e-01, -3.3680e-01,  3.1729e-01,  5.0325e-01,\n",
       "           9.6051e-02]]),\n",
       " 'dmpls': tensor([[ 0.5872, -0.5937,  0.0935, -0.1082,  1.5400, -0.3119, -2.0400,  0.9013]]),\n",
       " 'trans': tensor([[-0.1988,  0.1371,  0.6797]]),\n",
       " 'betas': tensor([[ 2.2140,  2.0062,  1.7169, -1.6117,  0.5180,  1.4124, -0.1580, -0.1450,\n",
       "           0.0671,  1.9010,  0.2068,  0.5701, -0.0117, -0.1653,  0.6465,  0.2017]]),\n",
       " 'gender': tensor([-1])}"
      ]
     },
     "execution_count": null,
     "metadata": {},
     "output_type": "execute_result"
    }
   ],
   "source": [
    "amass[0]"
   ]
  },
  {
   "cell_type": "code",
   "execution_count": null,
   "metadata": {},
   "outputs": [
    {
     "name": "stdout",
     "output_type": "stream",
     "text": [
      "poses torch.Size([4, 1, 156])\n",
      "dmpls torch.Size([4, 1, 8])\n",
      "trans torch.Size([4, 1, 3])\n",
      "betas torch.Size([4, 1, 16])\n",
      "gender torch.Size([4, 1])\n"
     ]
    }
   ],
   "source": [
    "amassloader = DataLoader(amass, batch_size=4, shuffle=True)\n",
    "\n",
    "for data in amassloader:\n",
    "    for k in data:\n",
    "        print(k, data[k].size())\n",
    "    break"
   ]
  },
  {
   "cell_type": "code",
   "execution_count": null,
   "metadata": {},
   "outputs": [],
   "source": [
    "# hide\n",
    "shutil.rmtree(unpacked_directory)"
   ]
  },
  {
   "cell_type": "markdown",
   "metadata": {},
   "source": [
    "## Future Work\n",
    "\n",
    "Caching the dataset may be easy to implement with [joblib's Memory][memory] so I'm looking into this.\n",
    "\n",
    "[memory]: https://joblib.readthedocs.io/en/latest/generated/joblib.Memory.html"
   ]
  }
 ],
 "metadata": {
  "kernelspec": {
   "display_name": "Python 3",
   "language": "python",
   "name": "python3"
  }
 },
 "nbformat": 4,
 "nbformat_minor": 2
}
